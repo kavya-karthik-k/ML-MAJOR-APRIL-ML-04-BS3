{
  "nbformat": 4,
  "nbformat_minor": 0,
  "metadata": {
    "colab": {
      "name": "setup.sh.ipynb",
      "provenance": [],
      "collapsed_sections": [],
      "authorship_tag": "ABX9TyMlVSsfmw0tfqo+GXZj7VMw",
      "include_colab_link": true
    },
    "kernelspec": {
      "name": "python3",
      "display_name": "Python 3"
    },
    "language_info": {
      "name": "python"
    }
  },
  "cells": [
    {
      "cell_type": "markdown",
      "metadata": {
        "id": "view-in-github",
        "colab_type": "text"
      },
      "source": [
        "<a href=\"https://colab.research.google.com/github/kavya-karthik-k/ML-MAJOR-APRIL-ML-04-BS3/blob/main/setup_sh.ipynb\" target=\"_parent\"><img src=\"https://colab.research.google.com/assets/colab-badge.svg\" alt=\"Open In Colab\"/></a>"
      ]
    },
    {
      "cell_type": "code",
      "metadata": {
        "id": "xw5CJhEgsbpn"
      },
      "source": [
        "mkdir -p ~/.streamlit/\n",
        "\n",
        "echo \"\\\n",
        "[server]\\n\\\n",
        "headless = true\\n\\\n",
        "port = $PORT\\n\\\n",
        "enableCORS = false\\n\\\n",
        "\\n\\\n",
        "\" > ~/.streamlit/config.toml"
      ],
      "execution_count": null,
      "outputs": []
    }
  ]
}