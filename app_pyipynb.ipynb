{
  "nbformat": 4,
  "nbformat_minor": 0,
  "metadata": {
    "colab": {
      "name": "app.pyipynb",
      "provenance": [],
      "collapsed_sections": [],
      "authorship_tag": "ABX9TyMUcBQDUWcU/slPkRPfKW4z",
      "include_colab_link": true
    },
    "kernelspec": {
      "name": "python3",
      "display_name": "Python 3"
    },
    "language_info": {
      "name": "python"
    }
  },
  "cells": [
    {
      "cell_type": "markdown",
      "metadata": {
        "id": "view-in-github",
        "colab_type": "text"
      },
      "source": [
        "<a href=\"https://colab.research.google.com/github/kavya-karthik-k/ML-MAJOR-APRIL-ML-04-BS3/blob/main/app_pyipynb.ipynb\" target=\"_parent\"><img src=\"https://colab.research.google.com/assets/colab-badge.svg\" alt=\"Open In Colab\"/></a>"
      ]
    },
    {
      "cell_type": "code",
      "metadata": {
        "id": "kqFU8XCvrNID"
      },
      "source": [
        "import streamlit as st\n",
        "import joblib\n",
        "model = joblib.load('Email_Class')\n",
        "st.title('Amazon Product Review')\n",
        "ip = st.text_input('Enter your message')\n",
        "op = model.predict([ip])\n",
        "if st.button('Predict'):\n",
        "  st.title(op[0]) "
      ],
      "execution_count": null,
      "outputs": []  
    }
  ]  
}   
